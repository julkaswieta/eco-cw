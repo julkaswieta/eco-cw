{
 "cells": [
  {
   "cell_type": "markdown",
   "metadata": {},
   "source": [
    "# Coursework: The Art Gallery Protection Problem"
   ]
  },
  {
   "cell_type": "markdown",
   "metadata": {},
   "source": [
    "## Import relevant libraries"
   ]
  },
  {
   "cell_type": "code",
   "execution_count": 7,
   "metadata": {},
   "outputs": [],
   "source": [
    "import numpy as np\n",
    "import subprocess\n",
    "import os\n",
    "import pandas as pd\n",
    "import matplotlib.pyplot as plt\n",
    "import random\n",
    "import array\n",
    "import csv\n"
   ]
  },
  {
   "cell_type": "markdown",
   "metadata": {},
   "source": [
    "## Set up  \n",
    "\n",
    "Depending on the instance you are trying to solve, sest the following parameters\n"
   ]
  },
  {
   "cell_type": "code",
   "execution_count": 8,
   "metadata": {},
   "outputs": [],
   "source": [
    "# Windows and Mac:  set the path to the location of the instance you want to test, examples shown below\n",
    "\n",
    "\n",
    "#myinst=\"\"  # empty string defaults to instance with no walls\n",
    "myinst=\"./artGalleryTestInstances/rooms.csv\"\n",
    "#myinst=\"./artGalleryTestInstances/pacman.csv\"\n",
    "\n",
    "instance_file = myinst  # the name of the file specifying the layout - use \"\" to represent an empty grid to an empty grid\n",
    "\n",
    "#  COLAB: upload the instance to colab and\n",
    "# instance_file = \"./name_of_instance_file\"\n",
    "\n",
    "# all the instances provides have the same size\n",
    "instance_size  = 100 # number of cells per dimension, i.e total number of cells in the grid is instance_size*instance_size\n",
    "\n",
    "num_cells = instance_size*instance_size # total number of cells in the grid\n",
    "\n"
   ]
  },
  {
   "cell_type": "code",
   "execution_count": 9,
   "metadata": {},
   "outputs": [],
   "source": [
    "\n",
    "# create a grid that specifies the walls that can be used later to check that no cameras are positioned on walls\n",
    "\n",
    "walls = np.zeros(instance_size*instance_size)\n",
    "\n",
    "\n",
    "with open(myinst) as csv_file:\n",
    "    csv_reader = csv.reader(csv_file, delimiter=',')\n",
    "    for line in csv_reader:\n",
    "        column=int(line[0])\n",
    "        row=int(line[1])\n",
    "        oneD_index = (row * instance_size) + column;\n",
    "        walls[oneD_index]=1\n",
    "        \n",
    "\n",
    "\n"
   ]
  },
  {
   "cell_type": "code",
   "execution_count": 4,
   "metadata": {},
   "outputs": [],
   "source": [
    "\n",
    "# set the correct binary depending on your machine/setup - you need to choose one of the options below and set the path correctly\n",
    "\n",
    "# for MacOS\n",
    "path_binary = \"./ECO-Coursework-Executables/bit_cam_napier.exe\"\n",
    "#path_binary_vis = \"./ECO-Coursework-Executables/bit_cam_napier_visualisation.exe\"\n",
    "\n",
    "\n",
    "# On Windows: change the following to the location of the binary on your system\n",
    "# path_binary = \"path-to/bit_cam_napier_windows.exe\"\n",
    "# path_binary_vis = \"path-to/bit_cam_napier_visualisation_windows.exe\"\n",
    "\n",
    "\n",
    "# on Colab: YOU MUST UPLOAD THE BINARIES TO COLAB\n",
    "#!chmod 755 -R ./bit_cam_napier_colab\n",
    "#!chmod 755 -R ./bit_cam_napier_visualisation_colab\n",
    "\n",
    "\n",
    "# Do NOT modify this code - this calls an external binary with a solution\n",
    "def objective_function(x, instance_size, nb_cameras, instance_file):\n",
    "    params = ['%.16g' % a for a in x]\n",
    "    cmd = [path_binary,str(instance_size),str(nb_cameras)]+params+[instance_file]\n",
    "    s = subprocess.check_output(cmd)\n",
    "    return float(s)\n",
    "\n",
    "\n",
    "# Do NOT modify: this checks whether a camera is positioned on top of wall in a solution\n",
    "def check_walls(solution, inst):\n",
    "    clashes=0\n",
    "    for i in range(0, len(solution)):\n",
    "        if (walls[i] == 1 and solution[i]==1):\n",
    "            clashes+=1\n",
    "            \n",
    "    return(clashes)\n",
    "        \n"
   ]
  },
  {
   "cell_type": "markdown",
   "metadata": {},
   "source": [
    "## Random Search Heuristic\n",
    "You *must* use this function to obtain a baseline to compare your results to.\n",
    "\n",
    "You need to set **n_guesses** to be equal to the total number of evaluations used in your EA. For example, if you use EASimple with a population size of 50 and run for 100 generations then the total number of evaluations is (50x100)\n"
   ]
  },
  {
   "cell_type": "code",
   "execution_count": 5,
   "metadata": {},
   "outputs": [],
   "source": [
    "# random search\n",
    "\n",
    "\n",
    "\n",
    "def RandomSearch(n, myinst, max_cameras):\n",
    "    best = np.inf\n",
    "    for i in range(n):\n",
    "        # select a random numner of cameras \n",
    "        nb_cam = random.randint(1,max_cameras)\n",
    "        sol = np.zeros(100*100)\n",
    "        # select which positions should have cameras\n",
    "        indexes = random.sample(range(0, 10000), nb_cam)\n",
    "        for j in indexes:\n",
    "            sol[j] = 1\n",
    "        fitness = objective_function(sol, instance_size, nb_cameras=len(indexes),  instance_file=myinst)\n",
    "        if fitness < best:\n",
    "            best = fitness\n",
    "            best_sol = sol\n",
    "    return best, best_sol"
   ]
  },
  {
   "cell_type": "code",
   "execution_count": 6,
   "metadata": {},
   "outputs": [
    {
     "name": "stdout",
     "output_type": "stream",
     "text": [
      "best coverage is 0.729531 and uses 21.0 cameras\n"
     ]
    }
   ],
   "source": [
    "# run random search\n",
    "\n",
    "n_guesses = 100\n",
    "max_cameras=500\n",
    "best, best_sol=RandomSearch(n_guesses, myinst, max_cameras)  #myinst is the name of the instance you are solving\n",
    "print(\"best coverage is %s and uses %s cameras\" %(best, sum(best_sol)))"
   ]
  },
  {
   "cell_type": "markdown",
   "metadata": {},
   "source": [
    "## Set up the fitness calculations \n",
    "\n",
    "This calls an external executable to return a fitness value. You cannot modify the code in this executable. \n",
    "\n",
    "\n",
    "1. If you are running code using **Google Colab**, you neyou must upload the executables called \"bit_cam_napier_colab\"  and \"bit_cam_napier_visualisation_colab\" to Colab and uncomment the line of code at tge top of the next cell\n",
    "\n",
    "2. If you are running on **Windows using Anaconda**, then your code needs to call the executables \"bit_cam_napier_windows.exe\" and \"bit_cam_napier_visualisation_windows.exe\" - you need to specify the exact path to these on your system in the code below\n",
    "\n",
    "3. If you are running on **Mac using Anaconda**, then your code needs to call the executables \"bit_cam_napier_mac.exe\" and \"bit_cam_napier_visualisation_mac.exe\" - you need to specify the exact path to these on your system in the code below\n",
    "\n",
    "The call to the external function is wrapped inside an evaluation function called **eval_function()** .. this has the standard form used by DEAP and should be registered with the toolbox as usual when you create your EA. Read the following carefully.    You can add any code you wish inside this function but it must always call the external *objective_function()* with a valid solution. This is defined below\n",
    "\n",
    "\n",
    " - The external \"objective_function\" needs to be passed a list of length (where n is the number of cells) where each value is 0 or 1.\n",
    "- There must be at least 1 camera in the solution passed to this function\n",
    "- You must pass this function a list in the for specified above: depending on the representation used, you might have to manipulate your solution to turn into into this form\n",
    "\n",
    "Invalid solutions (no cameras) should be assigned a fitness that is worse (bigger) than the maximum possible number of cameras\n",
    "\n",
    "Solutions that do not provide 100% coverage should be assigned a fitness that is worse (bigger) than the maximum possible number of cameras and ideally is proportional to how much of the space is not covered\n",
    "\n"
   ]
  },
  {
   "cell_type": "markdown",
   "metadata": {},
   "source": [
    "## EVALUATION FUNCTION FOR EA\n",
    "\n",
    "This is a starting point for an evaluation function to use with an EA assuming it is written using the DEAP libraries.  It assumes the individual is a bitstring with length equal to the number of cells, where 1 represents a camera placement in the cell and 0 no camera\n",
    "\n",
    "It checks for camera placements on walls - these cameras do nothing\n",
    "\n",
    "It implements a basic fitness function that you should consider modifying:\n",
    " - solutions with no cameras are invalid and given a fixed penality\n",
    " - solutions that do not provide 100% coverage are given a fixed penalty\n",
    " - solutions that provide coverage have a fitness equal to the number of cameras used\n",
    " "
   ]
  },
  {
   "cell_type": "code",
   "execution_count": null,
   "metadata": {},
   "outputs": [],
   "source": [
    "\n",
    "# this is the eval function called from DEAP: you can modify this to adapt the fitness for invalid solutions. The fitness of a valid solution\n",
    "# is obtained by calling the binary executable\n",
    "\n",
    "# This is the function where you will likely do most work!\n",
    "\n",
    "def eval_function(individual):\n",
    "\n",
    "    solution=[]\n",
    "\n",
    "    # The fitness function needs to be passed a list of length (where n is the number of cells) where each value is 0 or 1. You must first convert\n",
    "    # the individual passed to this function (a class) to a list\n",
    "\n",
    "    # This code assumes your representation of an individual contains a list of 0,1s and is of length num_cells\n",
    "    # If you have used another representation, you must write your own code to convert it to the form above\n",
    "\n",
    "    for i in range(0, len(individual)):\n",
    "        solution.append(individual[i])\n",
    "\n",
    "    # check how many cameras in the solution - if it does not equal nb_cameras the solution is *invalid*\n",
    "    # if there are cameras placed on a wall, the solution is also invalid\n",
    "    # if the solution is invalid, you must decide what fitness to assign - do *not* call the objective_function\n",
    "\n",
    "    total_cameras = np.sum(solution)\n",
    "    \n",
    "    if instance_file == \"\":\n",
    "        cameras_on_walls = 0\n",
    "    else:\n",
    "        cameras_on_walls = check_walls(solution, instance_file) \n",
    "    \n",
    "    \n",
    "    # invalid penalty   - you decide!\n",
    "    invalid_penalty=20000\n",
    "    \n",
    "    # Decide how to penalise solutions that do not provide 100% coverage - this is just a random choice\n",
    "    not_covered_penalty_factor = 11000\n",
    "                                        \n",
    "    # assign fitness after checking for validity\n",
    "    if  total_cameras < 1:\n",
    "        fitness =  invalid_penalty #  solution invalid....you decide how to handle this !!!!\n",
    "    else:\n",
    "        # only call this if the solution is not invalid\n",
    "        coverage = objective_function(solution, instance_size, total_cameras, instance_file)\n",
    "    \n",
    "        if coverage < 1.0:\n",
    "            # decide how to penalise this solution which does not provide 100% coverage \n",
    "            fitness = not_covered_penalty_factor  # you should modify this\n",
    "        else:\n",
    "            fitness = total_cameras  # fitness is the number of cameras used (minimise)\n",
    "\n",
    "    return fitness,"
   ]
  },
  {
   "cell_type": "markdown",
   "metadata": {},
   "source": [
    "# Visualisation Tools\n",
    "\n",
    "The code sets up some functions to allow you do visualise solutions. You shouldn't need to alter the code in the cell below (make sure the variable *path_binary_vis* is set to the correct binary at the start)\n",
    "\n"
   ]
  },
  {
   "cell_type": "code",
   "execution_count": null,
   "metadata": {},
   "outputs": [],
   "source": [
    "# set this path depending on where you put the executable\n",
    "path_binary_vis = \"/Users/emma/Downloads/ealain/build/bit_cam_napier_visualisation_mac\"\n",
    "\n",
    "# Run this cell to define the functions\n",
    "def solution_converter(index, instance_size):\n",
    "    counter = 0\n",
    "    for i in range(instance_size):\n",
    "        for j in range(instance_size):\n",
    "            if (counter == index):\n",
    "                return i,j\n",
    "            else:\n",
    "                counter+=1\n",
    "\n",
    "# assumes path_binary is already set \n",
    "def visualise_objective_function(x, instance_size, nb_cameras, instance_file):\n",
    "    params = ['%.16g' % a for a in x]\n",
    "    cmd = [path_binary_vis,str(instance_size),str(nb_cameras)]+params+[instance_file]\n",
    "    with open(\"temp_results.csv\",'w') as fd:\n",
    "        s = subprocess.call(cmd, stdout=fd)\n",
    "    # Plotting the probability of detection\n",
    "    data = pd.read_csv(\"temp_results.csv\")\n",
    "    values = np.array(data[\"value\"])\n",
    "    values[values < 0.5] = 0\n",
    "    values = values.reshape(instance_size,instance_size)\n",
    "    plt.imshow(values,cmap=\"Reds\")\n",
    "    # Plotting cameras\n",
    "    cameras_indices = [index for (index, item) in enumerate(list(x)) if item == 1]\n",
    "    for c in cameras_indices:\n",
    "        x,y = solution_converter(c, instance_size=instance_size)\n",
    "        plt.scatter(y,x,c=\"blue\",marker=\"D\")\n",
    "    # Plotting walls (if any)\n",
    "    if (instance_file != \"\"):\n",
    "        walls = pd.read_csv(instance_file,header=None)\n",
    "        plt.scatter(walls[1],walls[0],c=\"black\", marker=\"_\")\n",
    "    plt.xlim(0,instance_size-1)\n",
    "    plt.xlabel(\"x\")\n",
    "    plt.ylim(0,instance_size-1)\n",
    "    plt.ylabel(\"y\")\n",
    "    plt.show()\n",
    "    \n"
   ]
  },
  {
   "cell_type": "markdown",
   "metadata": {},
   "source": [
    "### Visualising a solution\n",
    "\n",
    "Two examples are given:\n",
    "- visualising a random solution\n",
    "- visualising an invidual returned from the EA\n"
   ]
  },
  {
   "cell_type": "code",
   "execution_count": null,
   "metadata": {},
   "outputs": [],
   "source": [
    "# Here we just create a random solution for a 100x100 grid with two cameras at random positions\n",
    "# you can experiment to see what different solutions look like\n",
    "\n",
    "\n",
    "# this assumes a grid of size 100x100 \n",
    "sol = np.zeros(100*100)\n",
    "\n",
    "# add some cameras!\n",
    "sol[random.randint(0, 10000)] = 1\n",
    "sol[random.randint(0, 10000)] = 1\n",
    "sol[random.randint(0, 10000)] = 1\n",
    "sol[random.randint(0, 10000)] = 1\n",
    "sol[random.randint(0, 10000)] = 1\n",
    "\n",
    "actual_cameras=sum(sol)  # need to pass the actual numbers of cameras in the solution, regardless of whether it is valid\n",
    "\n",
    "# choose an empty grid\n",
    "#visualise_objective_function(sol, instance_size= 100, nb_cameras=2, instance_file=\"\")\n",
    "\n",
    "# choose a layout\n",
    "\n",
    "\n",
    "visualise_objective_function(sol, instance_size=instance_size, nb_cameras=actual_cameras, instance_file=myinst)\n"
   ]
  },
  {
   "cell_type": "code",
   "execution_count": null,
   "metadata": {},
   "outputs": [],
   "source": []
  }
 ],
 "metadata": {
  "kernelspec": {
   "display_name": "eco",
   "language": "python",
   "name": "python3"
  },
  "language_info": {
   "codemirror_mode": {
    "name": "ipython",
    "version": 3
   },
   "file_extension": ".py",
   "mimetype": "text/x-python",
   "name": "python",
   "nbconvert_exporter": "python",
   "pygments_lexer": "ipython3",
   "version": "3.12.7"
  }
 },
 "nbformat": 4,
 "nbformat_minor": 4
}
