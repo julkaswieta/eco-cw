{
 "cells": [
  {
   "cell_type": "markdown",
   "metadata": {},
   "source": [
    "## Imports"
   ]
  },
  {
   "cell_type": "code",
   "execution_count": null,
   "metadata": {},
   "outputs": [],
   "source": [
    "import numpy as np\n",
    "import subprocess\n",
    "import os\n",
    "import pandas as pd\n",
    "import matplotlib.pyplot as plt\n",
    "import random\n",
    "import array\n",
    "import csv\n",
    "\n",
    "# import deap packages required\n",
    "from deap import algorithms\n",
    "from deap import base\n",
    "from deap import creator\n",
    "from deap import tools\n",
    "import pandas as pd"
   ]
  },
  {
   "cell_type": "markdown",
   "metadata": {},
   "source": [
    "## Load test instance "
   ]
  },
  {
   "cell_type": "code",
   "execution_count": null,
   "metadata": {},
   "outputs": [],
   "source": [
    "myinst = \"./artGalleryTestInstances/rooms.csv\"\n",
    "instance_file = myinst\n",
    "instance_size  = 100\n",
    "num_cells = instance_size * instance_size # total number of cells in the grid\n",
    "\n",
    "# create a grid that specifies the walls that can be used later to check that no cameras are positioned on walls\n",
    "walls = np.zeros(instance_size * instance_size)\n",
    "\n",
    "with open(myinst) as csv_file:\n",
    "    csv_reader = csv.reader(csv_file, delimiter = ',')\n",
    "    for line in csv_reader:\n",
    "        column = int(line[0])\n",
    "        row = int(line[1])\n",
    "        oneD_index = (row * instance_size) + column\n",
    "        walls[oneD_index] = 1"
   ]
  },
  {
   "cell_type": "markdown",
   "metadata": {},
   "source": [
    "## Executables wrappers"
   ]
  },
  {
   "cell_type": "code",
   "execution_count": null,
   "metadata": {},
   "outputs": [],
   "source": [
    "path_binary = \"ECO-Coursework-Executables/bit_cam_napier.exe\"\n",
    "path_binary_vis = \"ECO-Coursework-Executables/bit_cam_napier_visualisation.exe\"\n",
    "\n",
    "# Do NOT modify this code - this calls an external binary with a solution\n",
    "def objective_function(x, instance_size, nb_cameras, instance_file):\n",
    "    params = ['%.16g' % a for a in x]\n",
    "    cmd = [path_binary,str(instance_size),str(nb_cameras)]+params+[instance_file]\n",
    "    s = subprocess.check_output(cmd)\n",
    "    return float(s)\n",
    "\n",
    "\n",
    "# Do NOT modify: this checks whether a camera is positioned on top of wall in a solution\n",
    "def check_walls(solution, inst):\n",
    "    clashes=0\n",
    "    for i in range(0, len(solution)):\n",
    "        if (walls[i] == 1 and solution[i]==1):\n",
    "            clashes+=1\n",
    "            \n",
    "    return(clashes)"
   ]
  },
  {
   "cell_type": "markdown",
   "metadata": {},
   "source": [
    "## Evaluation function"
   ]
  },
  {
   "cell_type": "code",
   "execution_count": null,
   "metadata": {},
   "outputs": [],
   "source": [
    "# this is the eval function called from DEAP: you can modify this to adapt the fitness for invalid solutions. The fitness of a valid solution\n",
    "# is obtained by calling the binary executable\n",
    "\n",
    "# This is the function where you will likely do most work!\n",
    "\n",
    "def eval_function(individual):\n",
    "\n",
    "    solution = [] # list of length equivalent to number of cells in the grid, where each value is 0 or 1\n",
    "\n",
    "    # convert individual to the solution list - this depends on the representation\n",
    "    for i in range(0, len(individual)):\n",
    "        solution.append(individual[i])\n",
    "\n",
    "    # count cameras in solution\n",
    "    total_cameras = np.sum(solution)\n",
    "    \n",
    "    # check if cameras on walls\n",
    "    if instance_file == \"\":\n",
    "        cameras_on_walls = 0\n",
    "    else:\n",
    "        cameras_on_walls = check_walls(solution, instance_file) \n",
    "\n",
    "    print(total_cameras)\n",
    "    \n",
    "    invalid_penalty=20000\n",
    "    not_covered_penalty_factor = 11000\n",
    "                                        \n",
    "    # assign fitness after checking for validity\n",
    "    if  total_cameras < 1:\n",
    "        fitness =  invalid_penalty # no cameras\n",
    "    \n",
    "\n",
    "    else:\n",
    "        # only call this if the solution is not invalid\n",
    "        coverage = objective_function(solution, instance_size, total_cameras, instance_file)\n",
    "    \n",
    "        if coverage < 1.0:\n",
    "            # decide how to penalise this solution which does not provide 100% coverage \n",
    "            fitness = not_covered_penalty_factor  # you should modify this\n",
    "        else:\n",
    "            fitness = total_cameras  # fitness is the number of cameras used (minimise)\n",
    "\n",
    "    return fitness,"
   ]
  },
  {
   "cell_type": "markdown",
   "metadata": {},
   "source": [
    "## Setup the EA"
   ]
  },
  {
   "cell_type": "code",
   "execution_count": null,
   "metadata": {},
   "outputs": [],
   "source": [
    "# SETUP THE EA\n",
    "# define the fitness class and creare an individual class\n",
    "creator.create(\"FitnessMin\", base.Fitness, weights=(-1.0,))\n",
    "creator.create(\"Individual\", list, fitness=creator.FitnessMin)\n",
    "\n",
    "\n",
    "# create a toolbox\n",
    "toolbox = base.Toolbox()\n",
    "\n",
    "# Attribute generator\n",
    "toolbox.register(\"attr_bool\", random.randint, 0, 1)\n",
    "\n",
    "toolbox.register(\"individual\", tools.initRepeat, creator.Individual, toolbox.attr_bool, num_cells)\n",
    "\n",
    "toolbox.register(\"population\", tools.initRepeat, list, toolbox.individual)\n",
    "\n",
    "# register all operators we need with the toolbox\n",
    "toolbox.register(\"evaluate\", eval_function)\n",
    "toolbox.register(\"mate\", tools.cxTwoPoint)\n",
    "toolbox.register(\"mutate\", tools.mutFlipBit, indpb=0.05)\n",
    "toolbox.register(\"select\", tools.selTournament, tournsize=2)"
   ]
  },
  {
   "cell_type": "markdown",
   "metadata": {},
   "source": [
    "## Main EA definition"
   ]
  },
  {
   "cell_type": "code",
   "execution_count": null,
   "metadata": {},
   "outputs": [],
   "source": [
    "def main():\n",
    "    \n",
    "    # choose a population size: e.g. 200\n",
    "    pop = toolbox.population(n=200)\n",
    "    \n",
    "    # keep track of the single best solution found\n",
    "    hof = tools.HallOfFame(1)\n",
    " \n",
    "    # create a statistics object: we can log what ever statistics we want using this. We use the numpy Python library\n",
    "    # to calculate the stats and label them with convenient labels\n",
    "    stats = tools.Statistics(lambda ind: ind.fitness.values)\n",
    "    stats.register(\"avg\", np.mean)\n",
    "    stats.register(\"std\", np.std)\n",
    "    stats.register(\"min\", np.min)\n",
    "    stats.register(\"max\", np.max)\n",
    "    \n",
    "    # run the algorithm: we need to tell it what parameters to use\n",
    "    # cxpb = crossover probability; mutpb = mutation probability; ngen = number of iterations\n",
    "    pop, log = algorithms.eaSimple(pop, toolbox, cxpb=0.6, mutpb=0.01, ngen=400, stats=stats, halloffame=hof, verbose=True)\n",
    "    \n",
    "    return pop, log, hof"
   ]
  },
  {
   "cell_type": "markdown",
   "metadata": {},
   "source": [
    "## Run the EA"
   ]
  },
  {
   "cell_type": "code",
   "execution_count": null,
   "metadata": {},
   "outputs": [],
   "source": [
    "\n",
    "pop, log, hof = main()\n",
    "\n",
    "best = hof[0].fitness.values[0]   # best fitness found is stored at index 0 in the hof list\n",
    "\n",
    "# look in the logbook to see what generation this was found at\n",
    "max = log.select(\"max\")  # max fitness per generation stored in log\n",
    "\n",
    "for i in range(400):  # set to ngen\n",
    "        fit = max[i]\n",
    "        if fit == best:\n",
    "            break        \n",
    "        \n",
    "print(\"min fitness found is %s at generation %s\" % (best, i))"
   ]
  }
 ],
 "metadata": {
  "kernelspec": {
   "display_name": "eco",
   "language": "python",
   "name": "python3"
  },
  "language_info": {
   "codemirror_mode": {
    "name": "ipython",
    "version": 3
   },
   "file_extension": ".py",
   "mimetype": "text/x-python",
   "name": "python",
   "nbconvert_exporter": "python",
   "pygments_lexer": "ipython3",
   "version": "3.12.7"
  }
 },
 "nbformat": 4,
 "nbformat_minor": 2
}
