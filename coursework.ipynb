{
 "cells": [
  {
   "cell_type": "markdown",
   "metadata": {},
   "source": [
    "## Imports"
   ]
  },
  {
   "cell_type": "code",
   "execution_count": 76,
   "metadata": {},
   "outputs": [],
   "source": [
    "import numpy as np\n",
    "import subprocess\n",
    "import os\n",
    "import pandas as pd\n",
    "import matplotlib.pyplot as plt\n",
    "import random\n",
    "import array\n",
    "import csv\n",
    "import time\n",
    "\n",
    "# import deap packages required\n",
    "from deap import algorithms\n",
    "from deap import base\n",
    "from deap import creator\n",
    "from deap import tools\n",
    "import pandas as pd"
   ]
  },
  {
   "cell_type": "markdown",
   "metadata": {},
   "source": [
    "## Load test instance "
   ]
  },
  {
   "cell_type": "code",
   "execution_count": 77,
   "metadata": {},
   "outputs": [],
   "source": [
    "myinst = \"./artGalleryTestInstances/rooms.csv\"\n",
    "instance_file = myinst\n",
    "instance_size  = 100\n",
    "num_cells = instance_size * instance_size # total number of cells in the grid\n",
    "\n",
    "# create a grid that specifies the walls that can be used later to check that no cameras are positioned on walls\n",
    "walls = np.zeros(instance_size * instance_size)\n",
    "\n",
    "with open(myinst) as csv_file:\n",
    "    csv_reader = csv.reader(csv_file, delimiter = ',')\n",
    "    for line in csv_reader:\n",
    "        column = int(line[0])\n",
    "        row = int(line[1])\n",
    "        oneD_index = (row * instance_size) + column\n",
    "        walls[oneD_index] = 1"
   ]
  },
  {
   "cell_type": "markdown",
   "metadata": {},
   "source": [
    "## Executables wrappers"
   ]
  },
  {
   "cell_type": "code",
   "execution_count": 78,
   "metadata": {},
   "outputs": [],
   "source": [
    "path_binary = \"ECO-Coursework-Executables/bit_cam_napier.exe\"\n",
    "path_binary_vis = \"ECO-Coursework-Executables/bit_cam_napier_visualisation.exe\"\n",
    "\n",
    "# Do NOT modify this code - this calls an external binary with a solution\n",
    "def objective_function(x, instance_size, nb_cameras, instance_file):\n",
    "    params = ['%.16g' % a for a in x]\n",
    "    cmd = [path_binary,str(instance_size),str(nb_cameras)]+params+[instance_file]\n",
    "    s = subprocess.check_output(cmd)\n",
    "    return float(s)\n",
    "\n",
    "\n",
    "# Do NOT modify: this checks whether a camera is positioned on top of wall in a solution\n",
    "def check_walls(solution, inst):\n",
    "    clashes=0\n",
    "    for i in range(0, len(solution)):\n",
    "        if (walls[i] == 1 and solution[i]==1):\n",
    "            clashes+=1\n",
    "            \n",
    "    return(clashes)"
   ]
  },
  {
   "cell_type": "markdown",
   "metadata": {},
   "source": [
    "## Individual initialisation"
   ]
  },
  {
   "cell_type": "code",
   "execution_count": 79,
   "metadata": {},
   "outputs": [],
   "source": [
    "max_cameras = 300\n",
    "\n",
    "def generate_individual():\n",
    "    nb_cam = random.randint(1, max_cameras)\n",
    "    individual = np.zeros(100 * 100)\n",
    "    # select which positions should have cameras\n",
    "    indexes = random.sample(range(0, 10000), nb_cam)\n",
    "    for j in indexes:\n",
    "        individual[j] = 1\n",
    "\n",
    "    return individual"
   ]
  },
  {
   "cell_type": "markdown",
   "metadata": {},
   "source": [
    "## Evaluation function"
   ]
  },
  {
   "cell_type": "code",
   "execution_count": 80,
   "metadata": {},
   "outputs": [],
   "source": [
    "# this is the eval function called from DEAP: you can modify this to adapt the fitness for invalid solutions. The fitness of a valid solution\n",
    "# is obtained by calling the binary executable\n",
    "\n",
    "# This is the function where you will likely do most work!\n",
    "\n",
    "def eval_function(individual):\n",
    "    t0 = time.time()\n",
    "\n",
    "    solution = [] # list of length equivalent to number of cells in the grid, where each value is 0 or 1\n",
    "\n",
    "    # convert individual to the solution list - this depends on the representation\n",
    "    for i in range(0, len(individual)):\n",
    "        solution.append(individual[i])\n",
    "\n",
    "    # count cameras in solution\n",
    "    total_cameras = np.sum(solution)\n",
    "    \n",
    "    # check if cameras on walls\n",
    "    if instance_file == \"\":\n",
    "        cameras_on_walls = 0\n",
    "    else:\n",
    "        cameras_on_walls = check_walls(solution, instance_file) \n",
    "    \n",
    "    invalid_penalty=20000\n",
    "    not_covered_penalty_factor = 11000\n",
    "                                        \n",
    "    # assign fitness after checking for validity\n",
    "    if  total_cameras < 1:\n",
    "        fitness = invalid_penalty # no cameras\n",
    "    elif cameras_on_walls > 0:\n",
    "        fitness = invalid_penalty # cameras on walls\n",
    "\n",
    "    else:\n",
    "        # only call this if the solution is not invalid\n",
    "        coverage = objective_function(solution, instance_size, total_cameras, instance_file)\n",
    "    \n",
    "        if coverage < 1.0:\n",
    "            # decide how to penalise this solution which does not provide 100% coverage \n",
    "            fitness = not_covered_penalty_factor  # you should modify this\n",
    "        else:\n",
    "            fitness = total_cameras  # fitness is the number of cameras used (minimise)\n",
    "\n",
    "    t1 = time.time()\n",
    "    total_time = t1-t0\n",
    "    # print(\"evaluated individual with \" + str(total_cameras) + \" cameras, elapsed: \" + str(total_time))\n",
    "\n",
    "    return fitness,"
   ]
  },
  {
   "cell_type": "markdown",
   "metadata": {},
   "source": [
    "## Setup the EA"
   ]
  },
  {
   "cell_type": "code",
   "execution_count": 81,
   "metadata": {},
   "outputs": [
    {
     "name": "stderr",
     "output_type": "stream",
     "text": [
      "c:\\Users\\julka\\anaconda3\\envs\\eco\\Lib\\site-packages\\deap\\creator.py:185: RuntimeWarning: A class named 'FitnessMin' has already been created and it will be overwritten. Consider deleting previous creation of that class or rename it.\n",
      "  warnings.warn(\"A class named '{0}' has already been created and it \"\n",
      "c:\\Users\\julka\\anaconda3\\envs\\eco\\Lib\\site-packages\\deap\\creator.py:185: RuntimeWarning: A class named 'Individual' has already been created and it will be overwritten. Consider deleting previous creation of that class or rename it.\n",
      "  warnings.warn(\"A class named '{0}' has already been created and it \"\n"
     ]
    }
   ],
   "source": [
    "# SETUP THE EA\n",
    "# define the fitness class and creare an individual class\n",
    "creator.create(\"FitnessMin\", base.Fitness, weights=(-1.0,))\n",
    "creator.create(\"Individual\", list, fitness=creator.FitnessMin)\n",
    "\n",
    "\n",
    "# create a toolbox\n",
    "toolbox = base.Toolbox()\n",
    "\n",
    "toolbox.register(\"individual\", lambda: creator.Individual(generate_individual()))\n",
    "\n",
    "toolbox.register(\"population\", tools.initRepeat, list, toolbox.individual)\n",
    "\n",
    "# register all operators we need with the toolbox\n",
    "toolbox.register(\"evaluate\", eval_function)\n",
    "toolbox.register(\"mate\", tools.cxTwoPoint)\n",
    "toolbox.register(\"mutate\", tools.mutFlipBit, indpb=0.05)\n",
    "toolbox.register(\"select\", tools.selTournament, tournsize=2)"
   ]
  },
  {
   "cell_type": "markdown",
   "metadata": {},
   "source": [
    "## Main EA definition"
   ]
  },
  {
   "cell_type": "code",
   "execution_count": 82,
   "metadata": {},
   "outputs": [],
   "source": [
    "def main():\n",
    "    \n",
    "    # choose a population size: e.g. 200\n",
    "    pop = toolbox.population(n=50)\n",
    "    \n",
    "    # keep track of the single best solution found\n",
    "    hof = tools.HallOfFame(1)\n",
    " \n",
    "    # create a statistics object: we can log what ever statistics we want using this. We use the numpy Python library\n",
    "    # to calculate the stats and label them with convenient labels\n",
    "    stats = tools.Statistics(lambda ind: ind.fitness.values)\n",
    "    stats.register(\"avg\", np.mean)\n",
    "    stats.register(\"std\", np.std)\n",
    "    stats.register(\"min\", np.min)\n",
    "    stats.register(\"max\", np.max)\n",
    "    \n",
    "    # run the algorithm: we need to tell it what parameters to use\n",
    "    # cxpb = crossover probability; mutpb = mutation probability; ngen = number of iterations\n",
    "    pop, log = algorithms.eaSimple(pop, toolbox, cxpb=0.6, mutpb=0.05, ngen=50, stats=stats, halloffame=hof, verbose=True)\n",
    "    \n",
    "    return pop, log, hof"
   ]
  },
  {
   "cell_type": "markdown",
   "metadata": {},
   "source": [
    "## Run the EA"
   ]
  },
  {
   "cell_type": "code",
   "execution_count": 83,
   "metadata": {},
   "outputs": [
    {
     "name": "stdout",
     "output_type": "stream",
     "text": [
      "gen\tnevals\tavg    \tstd    \tmin\tmax  \n",
      "0  \t50    \t18522.4\t3929.31\t122\t20000\n",
      "1  \t28    \t18124.9\t4691.41\t122\t20000\n",
      "2  \t33    \t18447.8\t4951.88\t122\t20000\n",
      "3  \t39    \t17908.2\t5234.4 \t122\t20000\n",
      "4  \t31    \t17151  \t5897.8 \t122\t20000\n",
      "5  \t25    \t16250.9\t6078.63\t116\t20000\n",
      "6  \t32    \t14338.7\t7008.91\t114\t20000\n",
      "7  \t31    \t10724.8\t8418.16\t96 \t20000\n",
      "8  \t33    \t7327.04\t8110.69\t93 \t20000\n",
      "9  \t26    \t3892.9 \t6407.61\t95 \t20000\n",
      "10 \t27    \t2045.22\t4557.46\t87 \t20000\n",
      "11 \t33    \t916.24 \t3895.48\t91 \t20000\n",
      "12 \t33    \t2501.1 \t6461.9 \t91 \t20000\n",
      "13 \t32    \t2100.16\t5966.63\t87 \t20000\n",
      "14 \t31    \t900.22 \t3898.74\t84 \t20000\n",
      "15 \t31    \t1907.66\t5548.82\t78 \t20000\n",
      "16 \t32    \t2879.64\t6907.61\t70 \t20000\n",
      "17 \t29    \t2698.28\t6568.6 \t70 \t20000\n",
      "18 \t40    \t2591.56\t5640.05\t49 \t20000\n",
      "19 \t32    \t2730.16\t6309.69\t49 \t20000\n",
      "20 \t35    \t2587.14\t5642.01\t49 \t20000\n",
      "21 \t29    \t2982.72\t6134.2 \t52 \t20000\n",
      "22 \t33    \t3124.04\t6745.77\t55 \t20000\n",
      "23 \t33    \t2760.58\t6040.18\t55 \t20000\n",
      "24 \t26    \t2939.68\t6406.46\t55 \t20000\n",
      "25 \t24    \t2757.2 \t6041.68\t55 \t20000\n",
      "26 \t39    \t3411.14\t6302.99\t45 \t20000\n",
      "27 \t33    \t4529.04\t7821.2 \t45 \t20000\n",
      "28 \t43    \t3987.26\t7003.2 \t53 \t20000\n",
      "29 \t33    \t2171.52\t5080.13\t45 \t20000\n",
      "30 \t40    \t1770.78\t4403.11\t45 \t20000\n",
      "31 \t36    \t2386.56\t5219.87\t45 \t20000\n",
      "32 \t33    \t1291.2 \t4379.01\t45 \t20000\n",
      "33 \t33    \t1686.8 \t5098.74\t45 \t20000\n",
      "34 \t37    \t2302.7 \t5827.5 \t43 \t20000\n",
      "35 \t37    \t2042.66\t5985.78\t43 \t20000\n",
      "36 \t30    \t1102.42\t3747.88\t43 \t20000\n",
      "37 \t33    \t1062.64\t4158.45\t43 \t20000\n",
      "38 \t30    \t841.52 \t3910.71\t43 \t20000\n",
      "39 \t29    \t1639.56\t5414.2 \t43 \t20000\n",
      "40 \t27    \t2437.84\t6485.26\t43 \t20000\n",
      "41 \t23    \t841.28 \t3910.76\t43 \t20000\n",
      "42 \t21    \t841.28 \t3910.76\t43 \t20000\n",
      "43 \t23    \t841.28 \t3910.76\t43 \t20000\n",
      "44 \t28    \t841.28 \t3910.76\t43 \t20000\n",
      "45 \t35    \t841.28 \t3910.76\t43 \t20000\n",
      "46 \t27    \t2038.7 \t5987.1 \t43 \t20000\n",
      "47 \t27    \t1639.56\t5414.2 \t43 \t20000\n",
      "48 \t24    \t43     \t0      \t43 \t43   \n",
      "49 \t31    \t1240.42\t4739.52\t43 \t20000\n",
      "50 \t31    \t2038.7 \t5987.1 \t43 \t20000\n",
      "min fitness found is 43.0 at generation 4\n"
     ]
    }
   ],
   "source": [
    "pop, log, hof = main()\n",
    "\n",
    "best = hof[0].fitness.values[0]   # best fitness found is stored at index 0 in the hof list\n",
    "\n",
    "# look in the logbook to see what generation this was found at\n",
    "min = log.select(\"min\")  # max fitness per generation stored in log\n",
    "\n",
    "for i in range(5):  # set to ngen\n",
    "        fit = min[i]\n",
    "        if fit == best:\n",
    "            break        \n",
    "        \n",
    "print(\"min fitness found is %s at generation %s\" % (best, i))"
   ]
  },
  {
   "cell_type": "markdown",
   "metadata": {},
   "source": [
    "## Visualise solution and statistics"
   ]
  },
  {
   "cell_type": "code",
   "execution_count": 86,
   "metadata": {},
   "outputs": [
    {
     "data": {
      "image/png": "[encoded data removed]",
      "text/plain": [
       "<Figure size 640x480 with 1 Axes>"
      ]
     },
     "metadata": {},
     "output_type": "display_data"
    }
   ],
   "source": [
    "# Run this cell to define the functions\n",
    "def solution_converter(index, instance_size):\n",
    "    counter = 0\n",
    "    for i in range(instance_size):\n",
    "        for j in range(instance_size):\n",
    "            if (counter == index):\n",
    "                return i,j\n",
    "            else:\n",
    "                counter+=1\n",
    "\n",
    "# assumes path_binary is already set \n",
    "def visualise_objective_function(x, instance_size, nb_cameras, instance_file):\n",
    "    params = ['%.16g' % a for a in x]\n",
    "    cmd = [path_binary_vis,str(instance_size),str(nb_cameras)]+params+[instance_file]\n",
    "    with open(\"temp_results.csv\",'w') as fd:\n",
    "        s = subprocess.call(cmd, stdout=fd)\n",
    "    # Plotting the probability of detection\n",
    "    data = pd.read_csv(\"temp_results.csv\")\n",
    "    values = np.array(data[\"value\"])\n",
    "    values[values < 0.5] = 0\n",
    "    values = values.reshape(instance_size,instance_size)\n",
    "    plt.imshow(values,cmap=\"Reds\")\n",
    "    # Plotting cameras\n",
    "    cameras_indices = [index for (index, item) in enumerate(list(x)) if item == 1]\n",
    "    for c in cameras_indices:\n",
    "        x,y = solution_converter(c, instance_size=instance_size)\n",
    "        plt.scatter(y,x,c=\"blue\",marker=\"D\")\n",
    "    # Plotting walls (if any)\n",
    "    if (instance_file != \"\"):\n",
    "        walls = pd.read_csv(instance_file,header=None)\n",
    "        plt.scatter(walls[1],walls[0],c=\"black\", marker=\"_\")\n",
    "    plt.xlim(0,instance_size-1)\n",
    "    plt.xlabel(\"x\")\n",
    "    plt.ylim(0,instance_size-1)\n",
    "    plt.ylabel(\"y\")\n",
    "    plt.show()\n",
    "    \n",
    "# Here we just create a random solution for a 100x100 grid with two cameras at random positions\n",
    "# you can experiment to see what different solutions look like\n",
    "\n",
    "final_solution = hof[0]\n",
    "\n",
    "actual_cameras=sum(final_solution)  # need to pass the actual numbers of cameras in the solution, regardless of whether it is valid\n",
    "\n",
    "# choose an empty grid\n",
    "#visualise_objective_function(sol, instance_size= 100, nb_cameras=2, instance_file=\"\")\n",
    "\n",
    "# choose a layout\n",
    "\n",
    "\n",
    "visualise_objective_function(final_solution, instance_size=instance_size, nb_cameras=actual_cameras, instance_file=myinst)\n"
   ]
  },
  {
   "cell_type": "code",
   "execution_count": 98,
   "metadata": {},
   "outputs": [
    {
     "name": "stderr",
     "output_type": "stream",
     "text": [
      "C:\\Users\\julka\\AppData\\Local\\Temp\\ipykernel_22748\\199607758.py:10: UserWarning: color is redundantly defined by the 'color' keyword argument and the fmt string \"b-\" (-> color='b'). The keyword argument will take precedence.\n",
      "  line2 = ax1.plot(gen, fit_min, \"b-\", label=\"min Fitness\", color=\"b\")\n"
     ]
    },
    {
     "data": {
      "text/plain": [
       "<matplotlib.legend.Legend at 0x2a85bfd98e0>"
      ]
     },
     "execution_count": 98,
     "metadata": {},
     "output_type": "execute_result"
    },
    {
     "data": {
      "image/png": "[encoded data removed]",
      "text/plain": [
       "<Figure size 640x480 with 1 Axes>"
      ]
     },
     "metadata": {},
     "output_type": "display_data"
    }
   ],
   "source": [
    "# code for plotting\n",
    "\n",
    "gen = log.select(\"gen\")\n",
    "fit_max = log.select(\"max\")\n",
    "fit_min = log.select(\"min\")\n",
    "fit_avg = log.select(\"avg\")\n",
    "\n",
    "fig, ax1 = plt.subplots()\n",
    "#line1 = ax1.plot(gen, fit_max, \"b-\", label=\"max Fitness\", color=\"r\")\n",
    "line2 = ax1.plot(gen, fit_min, \"b-\", label=\"min Fitness\", color=\"b\")\n",
    "#line3 = ax1.plot(gen , fit_avg, \"b-\", label=\"avg Fitness\", color=\"g\")\n",
    "ax1.set_xlabel(\"Generations\")\n",
    "ax1.set_ylabel(\"Fitness\", color=\"b\")\n",
    "for tl in ax1.get_yticklabels():\n",
    "    tl.set_color(\"b\")\n",
    "ax1.set_ylim(0,150)\n",
    "    \n",
    "lns = line1+line2+line3\n",
    "labs = [l.get_label() for l in lns]\n",
    "ax1.legend(lns, labs, loc=\"center right\")\n"
   ]
  }
 ],
 "metadata": {
  "kernelspec": {
   "display_name": "eco",
   "language": "python",
   "name": "python3"
  },
  "language_info": {
   "codemirror_mode": {
    "name": "ipython",
    "version": 3
   },
   "file_extension": ".py",
   "mimetype": "text/x-python",
   "name": "python",
   "nbconvert_exporter": "python",
   "pygments_lexer": "ipython3",
   "version": "3.12.7"
  }
 },
 "nbformat": 4,
 "nbformat_minor": 2
}
