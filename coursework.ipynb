{
 "cells": [
  {
   "cell_type": "markdown",
   "metadata": {},
   "source": [
    "## Imports"
   ]
  },
  {
   "cell_type": "code",
   "execution_count": 567,
   "metadata": {},
   "outputs": [],
   "source": [
    "import numpy as np\n",
    "import subprocess\n",
    "import os\n",
    "import pandas as pd\n",
    "import matplotlib.pyplot as plt\n",
    "import random\n",
    "import array\n",
    "import csv\n",
    "import time\n",
    "\n",
    "# import deap packages required\n",
    "from deap import algorithms\n",
    "from deap import base\n",
    "from deap import creator\n",
    "from deap import tools\n",
    "import pandas as pd"
   ]
  },
  {
   "cell_type": "markdown",
   "metadata": {},
   "source": [
    "## Load test instance "
   ]
  },
  {
   "cell_type": "code",
   "execution_count": 568,
   "metadata": {},
   "outputs": [],
   "source": [
    "myinst = \"./artGalleryTestInstances/rooms.csv\"\n",
    "\n",
    "instance_file = myinst\n",
    "instance_size  = 100\n",
    "num_cells = instance_size * instance_size # total number of cells in the grid\n",
    "\n",
    "# create a grid that specifies the walls that can be used later to check that no cameras are positioned on walls\n",
    "walls = np.zeros(instance_size * instance_size)\n",
    "\n",
    "with open(myinst) as csv_file:\n",
    "    csv_reader = csv.reader(csv_file, delimiter = ',')\n",
    "    for line in csv_reader:\n",
    "        column = int(line[0])\n",
    "        row = int(line[1])\n",
    "        oneD_index = (row * instance_size) + column\n",
    "        walls[oneD_index] = 1"
   ]
  },
  {
   "cell_type": "markdown",
   "metadata": {},
   "source": [
    "## Executables wrappers"
   ]
  },
  {
   "cell_type": "code",
   "execution_count": 569,
   "metadata": {},
   "outputs": [],
   "source": [
    "path_binary = \"ECO-Coursework-Executables/bit_cam_napier.exe\"\n",
    "path_binary_vis = \"ECO-Coursework-Executables/bit_cam_napier_visualisation.exe\"\n",
    "\n",
    "# Do NOT modify this code - this calls an external binary with a solution\n",
    "def objective_function(x, instance_size, nb_cameras, instance_file):\n",
    "    params = ['%.16g' % a for a in x]\n",
    "    cmd = [path_binary,str(instance_size),str(nb_cameras)]+params+[instance_file]\n",
    "    s = subprocess.check_output(cmd)\n",
    "    return float(s)\n",
    "\n",
    "\n",
    "# Do NOT modify: this checks whether a camera is positioned on top of wall in a solution\n",
    "def check_walls(solution, inst):\n",
    "    clashes=0\n",
    "    for i in range(0, len(solution)):\n",
    "        if (walls[i] == 1 and solution[i]==1):\n",
    "            clashes+=1\n",
    "            \n",
    "    return(clashes)"
   ]
  },
  {
   "cell_type": "markdown",
   "metadata": {},
   "source": [
    "## Individual initialisation"
   ]
  },
  {
   "cell_type": "code",
   "execution_count": 570,
   "metadata": {},
   "outputs": [],
   "source": [
    "max_cameras = 300\n",
    "\n",
    "def generate_individual():\n",
    "    nb_cam = random.randint(1, max_cameras)\n",
    "    individual = np.zeros(100 * 100)\n",
    "    # select which positions should have cameras\n",
    "    indexes = random.sample(range(0, 10000), nb_cam)\n",
    "    for j in indexes:\n",
    "        individual[j] = 1\n",
    "\n",
    "    if len(cameras_on_walls(individual)) > 0:\n",
    "        repair_solution(individual)\n",
    "\n",
    "    return individual"
   ]
  },
  {
   "cell_type": "markdown",
   "metadata": {},
   "source": [
    "## Repair function"
   ]
  },
  {
   "cell_type": "code",
   "execution_count": 571,
   "metadata": {},
   "outputs": [],
   "source": [
    "def cameras_on_walls(solution):\n",
    "    positions = []\n",
    "    for i in range(0, len(solution)):\n",
    "        if (walls[i] == 1 and solution[i] == 1):\n",
    "            positions.append(i)\n",
    "            \n",
    "    return(positions)\n",
    "\n",
    "# delete all cameras that are on the walls \n",
    "def repair_solution(solution):\n",
    "    clash_positions = cameras_on_walls(solution)\n",
    "\n",
    "    prob_of_repair = 0.7\n",
    "    for pos in clash_positions:\n",
    "        prob = random.randint(0, 1)\n",
    "        if prob < prob_of_repair:\n",
    "            solution[pos] = 0"
   ]
  },
  {
   "cell_type": "markdown",
   "metadata": {},
   "source": [
    "## Evaluation function"
   ]
  },
  {
   "cell_type": "code",
   "execution_count": 572,
   "metadata": {},
   "outputs": [],
   "source": [
    "# this is the eval function called from DEAP: you can modify this to adapt the fitness for invalid solutions. The fitness of a valid solution\n",
    "# is obtained by calling the binary executable\n",
    "\n",
    "# This is the function where you will likely do most work!\n",
    "\n",
    "def eval_function(individual):\n",
    "    solution = [] # list of length equivalent to number of cells in the grid, where each value is 0 or 1\n",
    "    total_cameras = 99999\n",
    "    fitness = total_cameras\n",
    "\n",
    "    # convert individual to the solution list - this depends on the representation\n",
    "    for i in range(0, len(individual)):\n",
    "        solution.append(individual[i])\n",
    "    \n",
    "    # check if cameras on walls\n",
    "    if instance_file == \"\":\n",
    "        cameras_on_walls = 0\n",
    "    else:\n",
    "        cameras_on_walls = check_walls(solution, instance_file) \n",
    "\n",
    "    if cameras_on_walls > 0:\n",
    "        repair_solution(solution)\n",
    "        individual = solution\n",
    "\n",
    "    total_cameras = np.sum(solution)\n",
    "\n",
    "    invalid_penalty=20000\n",
    "    not_covered_penalty_factor = 15000\n",
    "\n",
    "    # assign fitness after checking for validity\n",
    "    if  total_cameras < 1:\n",
    "        fitness = invalid_penalty # no cameras\n",
    "\n",
    "    else:\n",
    "        # only call this if the solution is not invalid\n",
    "        coverage = objective_function(solution, instance_size, total_cameras, instance_file)\n",
    "    \n",
    "        if coverage < 0.99:\n",
    "            # decide how to penalise this solution which does not provide 100% coverage \n",
    "            fitness = not_covered_penalty_factor  # you should modify this\n",
    "        else:\n",
    "            fitness = total_cameras  # fitness is the number of cameras used (minimise)\n",
    "\n",
    "    # print(\"evaluated individual with \" + str(total_cameras) + \" cameras, elapsed: \" + str(total_time))\n",
    "    #print(\"cameras on walls \" + str(cameras_on_walls) + \", total cameras: \" + str(total_cameras) + \", fitness: \" + str(fitness))\n",
    "    return fitness,"
   ]
  },
  {
   "cell_type": "markdown",
   "metadata": {},
   "source": [
    "## Setup the EA"
   ]
  },
  {
   "cell_type": "code",
   "execution_count": 573,
   "metadata": {},
   "outputs": [
    {
     "name": "stderr",
     "output_type": "stream",
     "text": [
      "c:\\Users\\julka\\anaconda3\\envs\\eco\\Lib\\site-packages\\deap\\creator.py:185: RuntimeWarning: A class named 'FitnessMin' has already been created and it will be overwritten. Consider deleting previous creation of that class or rename it.\n",
      "  warnings.warn(\"A class named '{0}' has already been created and it \"\n",
      "c:\\Users\\julka\\anaconda3\\envs\\eco\\Lib\\site-packages\\deap\\creator.py:185: RuntimeWarning: A class named 'Individual' has already been created and it will be overwritten. Consider deleting previous creation of that class or rename it.\n",
      "  warnings.warn(\"A class named '{0}' has already been created and it \"\n"
     ]
    }
   ],
   "source": [
    "# SETUP THE EA\n",
    "# define the fitness class and creare an individual class\n",
    "creator.create(\"FitnessMin\", base.Fitness, weights=(-1.0,))\n",
    "creator.create(\"Individual\", list, fitness=creator.FitnessMin)\n",
    "\n",
    "\n",
    "# create a toolbox\n",
    "toolbox = base.Toolbox()\n",
    "\n",
    "toolbox.register(\"individual\", lambda: creator.Individual(generate_individual()))\n",
    "\n",
    "toolbox.register(\"population\", tools.initRepeat, list, toolbox.individual)\n",
    "\n",
    "# register all operators we need with the toolbox\n",
    "toolbox.register(\"evaluate\", eval_function)\n",
    "toolbox.register(\"mate\", tools.cxTwoPoint)\n",
    "toolbox.register(\"mutate\", tools.mutFlipBit, indpb=0.05)\n",
    "toolbox.register(\"select\", tools.selTournament, tournsize=2)"
   ]
  },
  {
   "cell_type": "markdown",
   "metadata": {},
   "source": [
    "## Main EA definition"
   ]
  },
  {
   "cell_type": "code",
   "execution_count": null,
   "metadata": {},
   "outputs": [],
   "source": [
    "population = 500\n",
    "generations = 50\n",
    "def main():\n",
    "    \n",
    "    # choose a population size: e.g. 200\n",
    "    pop = toolbox.population(n=population)\n",
    "    \n",
    "    # keep track of the single best solution found\n",
    "    hof = tools.HallOfFame(1)\n",
    " \n",
    "    # create a statistics object: we can log what ever statistics we want using this. We use the numpy Python library\n",
    "    # to calculate the stats and label them with convenient labels\n",
    "    stats = tools.Statistics(lambda ind: ind.fitness.values)\n",
    "    stats.register(\"avg\", np.mean)\n",
    "    stats.register(\"std\", np.std)\n",
    "    stats.register(\"min\", np.min)\n",
    "    stats.register(\"max\", np.max)\n",
    "    \n",
    "    # run the algorithm: we need to tell it what parameters to use\n",
    "    # cxpb = crossover probability; mutpb = mutation probability; ngen = number of iterations\n",
    "    pop, log = algorithms.eaSimple(pop, toolbox, cxpb=0.6, mutpb=0.05, ngen=generations, stats=stats, halloffame=hof, verbose=True)\n",
    "    \n",
    "    return pop, log, hof"
   ]
  },
  {
   "cell_type": "markdown",
   "metadata": {},
   "source": [
    "## Run the EA"
   ]
  },
  {
   "cell_type": "code",
   "execution_count": null,
   "metadata": {},
   "outputs": [
    {
     "name": "stdout",
     "output_type": "stream",
     "text": [
      "gen\tnevals\tavg  \tstd    \tmin\tmax\n",
      "0  \t5     \t165.6\t82.8483\t61 \t277\n",
      "1  \t2     \t107.8\t65.7188\t62 \t237\n",
      "2  \t4     \t67   \t7.26636\t61 \t80 \n",
      "3  \t4     \t160.4\t192.825\t62 \t546\n",
      "4  \t4     \t65.4 \t3.38231\t62 \t71 \n",
      "5  \t2     \t62.6 \t2.24499\t61 \t67 \n",
      "min fitness found is 61.0 at generation 0\n",
      "gen\tnevals\tavg   \tstd   \tmin\tmax  \n",
      "0  \t5     \t6086.4\t7278.1\t65 \t15000\n",
      "1  \t2     \t6104.2\t7263.45\t144\t15000\n",
      "2  \t4     \t3146  \t5927.05\t144\t15000\n",
      "3  \t0     \t3133  \t5933.55\t144\t15000\n",
      "4  \t4     \t147.4 \t9.83056\t142\t167  \n",
      "5  \t2     \t142.4 \t0.489898\t142\t143  \n",
      "min fitness found is 65.0 at generation 0\n",
      "gen\tnevals\tavg  \tstd    \tmin\tmax\n",
      "0  \t5     \t129.4\t41.8502\t65 \t173\n",
      "1  \t2     \t101.6\t29.6823\t65 \t156\n",
      "2  \t2     \t83.2 \t14.8647\t65 \t96 \n",
      "3  \t2     \t77   \t12.3126\t65 \t95 \n",
      "4  \t1     \t176.4\t207.97 \t65 \t592\n",
      "5  \t4     \t76.8 \t8.79545\t65 \t88 \n",
      "min fitness found is 65.0 at generation 0\n",
      "gen\tnevals\tavg   \tstd    \tmin\tmax  \n",
      "0  \t5     \t9089.6\t7238.75\t202\t15000\n",
      "1  \t4     \t6205.2\t7182.02\t215\t15000\n",
      "2  \t3     \t295   \t111.001\t239\t517  \n",
      "3  \t4     \t293.4 \t103.39 \t238\t500  \n",
      "4  \t2     \t238.8 \t0.748331\t238\t240  \n",
      "5  \t4     \t238.8 \t1.16619 \t237\t240  \n",
      "min fitness found is 202.0 at generation 0\n",
      "gen\tnevals\tavg \tstd    \tmin\tmax  \n",
      "0  \t5     \t3161\t5919.69\t121\t15000\n",
      "1  \t5     \t313.8\t191.01 \t156\t690  \n",
      "2  \t4     \t492.2\t192.678\t232\t690  \n",
      "3  \t2     \t572.2\t178.59 \t232\t697  \n",
      "4  \t4     \t479.8\t208.246\t232\t690  \n",
      "5  \t2     \t454.4\t128.629\t232\t555  \n",
      "min fitness found is 121.0 at generation 0\n",
      "gen\tnevals\tavg   \tstd    \tmin\tmax  \n",
      "0  \t5     \t6099.4\t7267.44\t102\t15000\n",
      "1  \t4     \t3172.8\t5913.64\t176\t15000\n",
      "2  \t4     \t189   \t24.5112\t176\t238  \n",
      "3  \t4     \t177.8 \t0.979796\t176\t179  \n",
      "4  \t2     \t177.4 \t1.2     \t176\t179  \n",
      "5  \t2     \t177   \t1.26491 \t176\t179  \n",
      "min fitness found is 102.0 at generation 0\n",
      "gen\tnevals\tavg  \tstd    \tmin\tmax\n",
      "0  \t5     \t140.2\t42.3575\t75 \t190\n",
      "1  \t2     \t116.6\t37.4518\t75 \t168\n",
      "2  \t4     \t77   \t2.09762\t74 \t79 \n",
      "3  \t2     \t75   \t2.52982\t73 \t80 \n",
      "4  \t2     \t75.2 \t2.4    \t74 \t80 \n",
      "5  \t2     \t74   \t0      \t74 \t74 \n",
      "min fitness found is 75.0 at generation 0\n",
      "gen\tnevals\tavg \tstd    \tmin\tmax  \n",
      "0  \t5     \t6083\t7280.83\t78 \t15000\n",
      "1  \t4     \t3105.8\t5947.23\t78 \t15000\n",
      "2  \t2     \t127.2 \t60.2574\t78 \t201  \n",
      "3  \t4     \t76.8  \t0.748331\t76 \t78   \n",
      "4  \t2     \t76.4  \t0.489898\t76 \t77   \n",
      "5  \t3     \t165.6 \t177.702 \t76 \t521  \n",
      "min fitness found is 78.0 at generation 0\n",
      "gen\tnevals\tavg   \tstd    \tmin\tmax  \n",
      "0  \t5     \t3109.6\t5945.46\t65 \t15000\n",
      "1  \t4     \t6073.6\t7288.61\t65 \t15000\n",
      "2  \t4     \t3140.8\t5929.68\t141\t15000\n",
      "3  \t2     \t156.6 \t12.7844\t141\t180  \n",
      "4  \t4     \t150.8 \t23.3615\t110\t183  \n",
      "5  \t4     \t243   \t192.257\t83 \t619  \n",
      "min fitness found is 65.0 at generation 0\n",
      "gen\tnevals\tavg   \tstd    \tmin\tmax  \n",
      "0  \t5     \t9058.8\t7276.55\t88 \t15000\n",
      "1  \t4     \t9031.4\t7310.01\t69 \t15000\n",
      "2  \t5     \t159.4 \t185.934\t53 \t531  \n",
      "3  \t2     \t60.6  \t9.30806\t53 \t72   \n",
      "4  \t4     \t53    \t0      \t53 \t53   \n",
      "5  \t2     \t53    \t0      \t53 \t53   \n",
      "min fitness found is 53.0 at generation 2\n"
     ]
    }
   ],
   "source": [
    "runs = [[\"Best\", \"Generation\", \"Time\"]]\n",
    "for run in range(0, 10):\n",
    "    start = time.time()\n",
    "    pop, log, hof = main()\n",
    "    stop = time.time()\n",
    "\n",
    "    run_time = stop - start\n",
    "\n",
    "    best = hof[0].fitness.values[0]   # best fitness found is stored at index 0 in the hof list\n",
    "\n",
    "    # look in the logbook to see what generation this was found at\n",
    "    min = log.select(\"min\")  # max fitness per generation stored in log\n",
    "\n",
    "    for i in range(generations):  # set to ngen\n",
    "            fit = min[i]\n",
    "            if fit == best:\n",
    "                break        \n",
    "\n",
    "    \n",
    "    runs.append([best, i, run_time])  \n",
    "\n",
    "    with open(\"output.csv\", mode = \"a\", newline=\"\") as file:\n",
    "        writer = csv.writer(file)\n",
    "        writer.writerow([best,i, run_time])         \n",
    "    \n",
    "    print(\"min fitness found is %s at generation %s\" % (best, i))\n",
    "\n"
   ]
  },
  {
   "cell_type": "markdown",
   "metadata": {},
   "source": [
    "## Visualise solution and statistics"
   ]
  },
  {
   "cell_type": "code",
   "execution_count": 576,
   "metadata": {},
   "outputs": [
    {
     "data": {
      "image/png": "[encoded data removed]",
      "text/plain": [
       "<Figure size 640x480 with 1 Axes>"
      ]
     },
     "metadata": {},
     "output_type": "display_data"
    }
   ],
   "source": [
    "# Run this cell to define the functions\n",
    "def solution_converter(index, instance_size):\n",
    "    counter = 0\n",
    "    for i in range(instance_size):\n",
    "        for j in range(instance_size):\n",
    "            if (counter == index):\n",
    "                return i,j\n",
    "            else:\n",
    "                counter+=1\n",
    "\n",
    "# assumes path_binary is already set \n",
    "def visualise_objective_function(x, instance_size, nb_cameras, instance_file):\n",
    "    params = ['%.16g' % a for a in x]\n",
    "    cmd = [path_binary_vis,str(instance_size),str(nb_cameras)]+params+[instance_file]\n",
    "    with open(\"temp_results.csv\",'w') as fd:\n",
    "        s = subprocess.call(cmd, stdout=fd)\n",
    "    # Plotting the probability of detection\n",
    "    data = pd.read_csv(\"temp_results.csv\")\n",
    "    values = np.array(data[\"value\"])\n",
    "    values[values < 0.5] = 0\n",
    "    values = values.reshape(instance_size,instance_size)\n",
    "    plt.imshow(values,cmap=\"Reds\")\n",
    "    # Plotting cameras\n",
    "    cameras_indices = [index for (index, item) in enumerate(list(x)) if item == 1]\n",
    "    for c in cameras_indices:\n",
    "        x,y = solution_converter(c, instance_size=instance_size)\n",
    "        plt.scatter(y,x,c=\"blue\",marker=\"D\")\n",
    "    # Plotting walls (if any)\n",
    "    if (instance_file != \"\"):\n",
    "        walls = pd.read_csv(instance_file,header=None)\n",
    "        plt.scatter(walls[1],walls[0],c=\"black\", marker=\"_\")\n",
    "    plt.xlim(0,instance_size-1)\n",
    "    plt.xlabel(\"x\")\n",
    "    plt.ylim(0,instance_size-1)\n",
    "    plt.ylabel(\"y\")\n",
    "    plt.show()\n",
    "    \n",
    "# Here we just create a random solution for a 100x100 grid with two cameras at random positions\n",
    "# you can experiment to see what different solutions look like\n",
    "\n",
    "final_solution = hof[0]\n",
    "\n",
    "actual_cameras=sum(final_solution)  # need to pass the actual numbers of cameras in the solution, regardless of whether it is valid\n",
    "\n",
    "# choose an empty grid\n",
    "#visualise_objective_function(sol, instance_size= 100, nb_cameras=2, instance_file=\"\")\n",
    "\n",
    "# choose a layout\n",
    "\n",
    "\n",
    "visualise_objective_function(final_solution, instance_size=instance_size, nb_cameras=actual_cameras, instance_file=myinst)\n"
   ]
  },
  {
   "cell_type": "code",
   "execution_count": 577,
   "metadata": {},
   "outputs": [
    {
     "name": "stderr",
     "output_type": "stream",
     "text": [
      "C:\\Users\\julka\\AppData\\Local\\Temp\\ipykernel_22748\\2919038694.py:9: UserWarning: color is redundantly defined by the 'color' keyword argument and the fmt string \"b-\" (-> color='b'). The keyword argument will take precedence.\n",
      "  line1 = ax1.plot(gen, fit_max, \"b-\", label=\"max Fitness\", color=\"r\")\n",
      "C:\\Users\\julka\\AppData\\Local\\Temp\\ipykernel_22748\\2919038694.py:10: UserWarning: color is redundantly defined by the 'color' keyword argument and the fmt string \"b-\" (-> color='b'). The keyword argument will take precedence.\n",
      "  line2 = ax1.plot(gen, fit_min, \"b-\", label=\"min Fitness\", color=\"b\")\n",
      "C:\\Users\\julka\\AppData\\Local\\Temp\\ipykernel_22748\\2919038694.py:11: UserWarning: color is redundantly defined by the 'color' keyword argument and the fmt string \"b-\" (-> color='b'). The keyword argument will take precedence.\n",
      "  line3 = ax1.plot(gen , fit_avg, \"b-\", label=\"avg Fitness\", color=\"g\")\n"
     ]
    },
    {
     "data": {
      "text/plain": [
       "<matplotlib.legend.Legend at 0x2a85c560380>"
      ]
     },
     "execution_count": 577,
     "metadata": {},
     "output_type": "execute_result"
    },
    {
     "data": {
      "image/png": "[encoded data removed]",
      "text/plain": [
       "<Figure size 640x480 with 1 Axes>"
      ]
     },
     "metadata": {},
     "output_type": "display_data"
    }
   ],
   "source": [
    "# code for plotting\n",
    "\n",
    "gen = log.select(\"gen\")\n",
    "fit_max = log.select(\"max\")\n",
    "fit_min = log.select(\"min\")\n",
    "fit_avg = log.select(\"avg\")\n",
    "\n",
    "fig, ax1 = plt.subplots()\n",
    "line1 = ax1.plot(gen, fit_max, \"b-\", label=\"max Fitness\", color=\"r\")\n",
    "line2 = ax1.plot(gen, fit_min, \"b-\", label=\"min Fitness\", color=\"b\")\n",
    "line3 = ax1.plot(gen , fit_avg, \"b-\", label=\"avg Fitness\", color=\"g\")\n",
    "ax1.set_xlabel(\"Generations\")\n",
    "ax1.set_ylabel(\"Fitness\", color=\"b\")\n",
    "for tl in ax1.get_yticklabels():\n",
    "    tl.set_color(\"b\")\n",
    "ax1.set_ylim(0,1000)\n",
    "    \n",
    "lns = line1+line2+line3\n",
    "labs = [l.get_label() for l in lns]\n",
    "ax1.legend(lns, labs, loc=\"center right\")\n"
   ]
  }
 ],
 "metadata": {
  "kernelspec": {
   "display_name": "eco",
   "language": "python",
   "name": "python3"
  },
  "language_info": {
   "codemirror_mode": {
    "name": "ipython",
    "version": 3
   },
   "file_extension": ".py",
   "mimetype": "text/x-python",
   "name": "python",
   "nbconvert_exporter": "python",
   "pygments_lexer": "ipython3",
   "version": "3.12.7"
  }
 },
 "nbformat": 4,
 "nbformat_minor": 2
}
