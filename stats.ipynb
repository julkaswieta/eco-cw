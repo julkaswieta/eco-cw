{
 "cells": [
  {
   "cell_type": "markdown",
   "metadata": {},
   "source": [
    "# Statistics for the experiments"
   ]
  },
  {
   "cell_type": "markdown",
   "metadata": {},
   "source": [
    "## Experiment I - Repair function vs no repair"
   ]
  },
  {
   "cell_type": "code",
   "execution_count": 3,
   "metadata": {},
   "outputs": [],
   "source": [
    "import statistics\n",
    "from scipy.stats import shapiro\n",
    "from scipy.stats import mannwhitneyu"
   ]
  },
  {
   "cell_type": "code",
   "execution_count": null,
   "metadata": {},
   "outputs": [],
   "source": [
    "# Check data normality\n",
    "def check_normality(data):\n",
    "    result = shapiro(data)\n",
    "    \n",
    "    if result.pvalue > 0.05:\n",
    "        return True\n",
    "    else:\n",
    "        return False"
   ]
  },
  {
   "cell_type": "code",
   "execution_count": null,
   "metadata": {},
   "outputs": [],
   "source": [
    "datasets = [] # a list of lists\n",
    "all_normal = True\n",
    "\n",
    "for i, data in enumerate(datasets):\n",
    "    # Calculate average (mean)\n",
    "    mean = statistics.mean(data)\n",
    "\n",
    "    # Calculate median\n",
    "    median = statistics.median(data)\n",
    "\n",
    "    # Calculate standard deviation\n",
    "    stdev = statistics.stdev(data)\n",
    "\n",
    "    # Print results\n",
    "    print(\"Data \" + str(i))\n",
    "    print(f\"Mean: {mean}, Median: {median}, StDev: {stdev}\")\n",
    "\n",
    "    data_normal = check_normality(data)\n",
    "    if data_normal == False:\n",
    "        all_normal = False\n",
    "\n",
    "\n",
    "\n"
   ]
  }
 ],
 "metadata": {
  "kernelspec": {
   "display_name": "eco",
   "language": "python",
   "name": "python3"
  },
  "language_info": {
   "codemirror_mode": {
    "name": "ipython",
    "version": 3
   },
   "file_extension": ".py",
   "mimetype": "text/x-python",
   "name": "python",
   "nbconvert_exporter": "python",
   "pygments_lexer": "ipython3",
   "version": "3.12.7"
  }
 },
 "nbformat": 4,
 "nbformat_minor": 2
}
