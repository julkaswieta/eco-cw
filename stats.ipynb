{
 "cells": [
  {
   "cell_type": "markdown",
   "metadata": {},
   "source": [
    "# Statistics for the experiments"
   ]
  },
  {
   "cell_type": "markdown",
   "metadata": {},
   "source": [
    "## Experiment I - Repair function vs no repair"
   ]
  },
  {
   "cell_type": "code",
   "execution_count": 2,
   "metadata": {},
   "outputs": [],
   "source": [
    "import statistics\n",
    "from scipy.stats import shapiro\n",
    "from scipy.stats import mannwhitneyu, ttest_ind"
   ]
  },
  {
   "cell_type": "code",
   "execution_count": 3,
   "metadata": {},
   "outputs": [],
   "source": [
    "# Check data normality\n",
    "def check_normality(data):\n",
    "    result = shapiro(data)\n",
    "    \n",
    "    if result.pvalue > 0.05:\n",
    "        return True\n",
    "    else:\n",
    "        return False\n",
    "    \n",
    "# Answers the question - Is the data significantly different? In other words, should I reject the H0?\n",
    "def ttest(d1, d2):\n",
    "    t_stat, p_value = ttest_ind(d1, d2)\n",
    "    print(f\"p-value: {p_value}\")\n",
    "\n",
    "    if p_value >= 0.05:\n",
    "        print(\"Not significantly different\")\n",
    "    else:\n",
    "        print(\"Significantly different\")\n",
    "    \n",
    "def mann_whitney(d1, d2):\n",
    "    stat, p_value = mannwhitneyu(d1, d2, alternative='two-sided')\n",
    "    print(f\"p-value: {p_value}\")\n",
    "    \n",
    "    if p_value >= 0.05:\n",
    "        print(\"Not significantly different\")\n",
    "    else:\n",
    "        print(\"Significantly different\")\n"
   ]
  },
  {
   "cell_type": "code",
   "execution_count": 4,
   "metadata": {},
   "outputs": [],
   "source": [
    "def stats(datasets):\n",
    "    for i, data in enumerate(datasets):\n",
    "        # Calculate average (mean)\n",
    "        mean = statistics.mean(data)\n",
    "\n",
    "        # Calculate median\n",
    "        median = statistics.median(data)\n",
    "\n",
    "        # Calculate standard deviation\n",
    "        stdev = statistics.stdev(data)\n",
    "\n",
    "        # Print results\n",
    "        print(\"Data \" + str(i))\n",
    "        print(f\"Mean: {mean}, Median: {median}, StDev: {stdev}\")\n",
    "\n",
    "\n",
    "def check_all_normal(datasets):\n",
    "    all_normal = True\n",
    "    for i, data in enumerate(datasets):\n",
    "        data_normal = check_normality(data)\n",
    "        if data_normal == False:\n",
    "            all_normal = False\n",
    "\n",
    "    if all_normal == True:\n",
    "        print(\"All normal\")\n",
    "    else:\n",
    "        print(\"Not all normal\")"
   ]
  },
  {
   "cell_type": "markdown",
   "metadata": {},
   "source": [
    "## Data"
   ]
  },
  {
   "cell_type": "code",
   "execution_count": 5,
   "metadata": {},
   "outputs": [],
   "source": [
    "no_repair = [71, 65, 104, 5000, 5000]\n",
    "repair = [48, 46, 69, 55, 55]\n",
    "full = [68, 48, 49, 49, 58, 52, 66, 57, 55, 39]\n",
    "compressed = [58, 48, 37, 48, 46, 49, 48, 38, 67, 40]\n",
    "no_elitism = [58, 48, 37, 48, 46, 49, 48, 38, 67, 40]\n",
    "full_elitism = [37, 47, 53, 45, 38, 45, 52, 51, 40, 48]\n",
    "selection_elitism = [50, 46, 47, 53, 55, 47, 44, 65, 45, 49]\n",
    "cross_2pt = [58, 48, 37, 48, 46, 49, 48, 38, 67, 40]\n",
    "cross_uniform = [62, 74, 47, 48, 60, 49, 39, 47, 52, 36]\n",
    "flip_bit = [58, 48, 37, 48, 46, 49, 48, 38, 67, 40]\n",
    "custom70 = [33, 35, 39, 45, 42, 40, 36, 34, 43, 46]\n",
    "custom40 = [32, 48, 49, 38, 35, 41, 38, 42, 45, 43]\n",
    "custom10 = [37, 48, 34, 41, 50, 33, 51, 40, 48, 45]\n",
    "static = [58, 48, 37, 48, 46, 49, 48, 38, 67, 40]\n",
    "weighted = [50, 39, 43, 44, 47, 39, 40, 38, 39, 42]\n",
    "dynamic = [35, 48, 38, 40, 43, 50, 33, 43, 44, 46]\n",
    "combi = [52, 41, 47, 58, 36, 44, 42, 46, 46, 63]\n",
    "dynamic_05 = [48, 47, 37, 42, 34, 44, 37, 38, 39, 44]\n",
    "noHC = [48, 43, 48, 58, 57, 47, 41, 56, 49, 45]\n",
    "HC = [30, 27, 26, 30, 24, 26, 22, 25, 29, 30]\n",
    "SAHC = [25, 26, 24, 28, 22, 23, 22, 22, 27, 26]\n",
    "\n",
    "\n",
    "# times\n",
    "time_full = [\n",
    "    652.8551862, 598.2001185, 563.6797307, 557.1440213, 659.1640007,\n",
    "    611.8931332, 794.1486332, 647.1460776, 710.0754879, 547.9254956\n",
    "]\n",
    "\n",
    "time_compressed = [\n",
    "    475.3052461, 463.502598, 511.1327515, 445.0050519, 451.7827125,\n",
    "    392.9554772, 413.9644699, 415.3617647, 430.7680318, 423.0939028\n",
    "]\n",
    "\n",
    "time_no_hc = [\n",
    "    667.870585, 554.8225119, 559.524121, 536.6998496, 534.7185338,\n",
    "    601.7310145, 613.7756863, 690.618535, 517.061594, 532.5931456\n",
    "]\n",
    "\n",
    "time_hc = [\n",
    "    710.3579452, 587.6239021, 601.9113791, 584.0862556, 573.8662109,\n",
    "    639.7933168, 650.5472088, 733.2280288, 559.8270011, 573.7364788\n",
    "]\n",
    "\n",
    "time_sahc = [\n",
    "    985.5258517, 808.832582, 931.2391014, 1119.190049, 1027.911329,\n",
    "    943.9406071, 851.7622023, 1279.955733, 912.0652082, 818.9687214\n",
    "]"
   ]
  },
  {
   "cell_type": "markdown",
   "metadata": {},
   "source": [
    "## Repair function"
   ]
  },
  {
   "cell_type": "code",
   "execution_count": 6,
   "metadata": {},
   "outputs": [
    {
     "name": "stdout",
     "output_type": "stream",
     "text": [
      "Data 0\n",
      "Mean: 2048, Median: 104, StDev: 2694.835894818087\n",
      "Data 1\n",
      "Mean: 54.6, Median: 55, StDev: 9.016651263079881\n",
      "Not all normal\n",
      "p-value: 0.020784343168786933\n",
      "Significantly different\n"
     ]
    }
   ],
   "source": [
    "datasets = []\n",
    "datasets.append(no_repair)\n",
    "datasets.append(repair)\n",
    "\n",
    "stats(datasets)\n",
    "check_all_normal(datasets)\n",
    "\n",
    "# Not all normal so Mann-Whitney test\n",
    "mann_whitney(no_repair, repair)\n"
   ]
  },
  {
   "cell_type": "markdown",
   "metadata": {},
   "source": [
    "## Representation"
   ]
  },
  {
   "cell_type": "code",
   "execution_count": 7,
   "metadata": {},
   "outputs": [
    {
     "name": "stdout",
     "output_type": "stream",
     "text": [
      "Data 0\n",
      "Mean: 54.1, Median: 53.5, StDev: 8.698020208964541\n",
      "Data 1\n",
      "Mean: 47.9, Median: 48.0, StDev: 9.13418487514531\n",
      "All normal\n",
      "p-value: 0.1374876293933838\n",
      "Not significantly different\n",
      "Data 0\n",
      "Mean: 634.22318849, Median: 629.5196054, StDev: 76.46864128324758\n",
      "Data 1\n",
      "Mean: 442.28720064, Median: 437.88654185, StDev: 34.70413807017296\n",
      "All normal\n",
      "p-value: 1.0080715610068273e-06\n",
      "Significantly different\n"
     ]
    }
   ],
   "source": [
    "datasets = []\n",
    "datasets.append(full)\n",
    "datasets.append(compressed)\n",
    "\n",
    "stats(datasets)\n",
    "check_all_normal(datasets)\n",
    "\n",
    "ttest(full, compressed)\n",
    "\n",
    "times = []\n",
    "\n",
    "times.append(time_full)\n",
    "times.append(time_compressed)\n",
    "\n",
    "stats(times)\n",
    "check_all_normal(times)\n",
    "\n",
    "ttest(time_full, time_compressed)"
   ]
  },
  {
   "cell_type": "markdown",
   "metadata": {},
   "source": [
    "## Elitism"
   ]
  },
  {
   "cell_type": "code",
   "execution_count": 8,
   "metadata": {},
   "outputs": [
    {
     "name": "stdout",
     "output_type": "stream",
     "text": [
      "Data 0\n",
      "Mean: 47.9, Median: 48.0, StDev: 9.13418487514531\n",
      "Data 1\n",
      "Mean: 45.6, Median: 46.0, StDev: 5.738757124441959\n",
      "Data 2\n",
      "Mean: 50.1, Median: 48.0, StDev: 6.279596590015424\n",
      "Not all normal\n",
      "p-value: 0.6759715637102298\n",
      "Not significantly different\n",
      "p-value: 0.5697331202732221\n",
      "Not significantly different\n"
     ]
    }
   ],
   "source": [
    "datasets = []\n",
    "datasets.append(no_elitism)\n",
    "datasets.append(full_elitism)\n",
    "datasets.append(selection_elitism)\n",
    "\n",
    "stats(datasets)\n",
    "check_all_normal(datasets)\n",
    "\n",
    "# Not all normal so Mann-Whitney test\n",
    "mann_whitney(no_elitism, full_elitism)\n",
    "mann_whitney(no_elitism, selection_elitism)"
   ]
  },
  {
   "cell_type": "markdown",
   "metadata": {},
   "source": [
    "## Crossover"
   ]
  },
  {
   "cell_type": "code",
   "execution_count": 9,
   "metadata": {},
   "outputs": [
    {
     "name": "stdout",
     "output_type": "stream",
     "text": [
      "Data 0\n",
      "Mean: 47.9, Median: 48.0, StDev: 9.13418487514531\n",
      "Data 1\n",
      "Mean: 51.4, Median: 48.5, StDev: 11.276327219248099\n",
      "All normal\n",
      "p-value: 0.45552553236418136\n",
      "Not significantly different\n"
     ]
    }
   ],
   "source": [
    "datasets = []\n",
    "datasets.append(cross_2pt)\n",
    "datasets.append(cross_uniform)\n",
    "\n",
    "stats(datasets)\n",
    "check_all_normal(datasets)\n",
    "\n",
    "ttest(cross_2pt, cross_uniform)"
   ]
  },
  {
   "cell_type": "markdown",
   "metadata": {},
   "source": [
    "## Mutation"
   ]
  },
  {
   "cell_type": "code",
   "execution_count": 10,
   "metadata": {},
   "outputs": [
    {
     "name": "stdout",
     "output_type": "stream",
     "text": [
      "Data 0\n",
      "Mean: 47.9, Median: 48.0, StDev: 9.13418487514531\n",
      "Data 1\n",
      "Mean: 39.3, Median: 39.5, StDev: 4.667856991049414\n",
      "Data 2\n",
      "Mean: 41.1, Median: 41.5, StDev: 5.466056876558986\n",
      "Data 3\n",
      "Mean: 42.7, Median: 43.0, StDev: 6.634087059355727\n",
      "All normal\n",
      "p-value: 0.01624715676935497\n",
      "Significantly different\n",
      "p-value: 0.05851138366248477\n",
      "Not significantly different\n",
      "p-value: 0.16244765879691508\n",
      "Not significantly different\n",
      "p-value: 0.20159743951385595\n",
      "Not significantly different\n",
      "p-value: 0.43873428147686944\n",
      "Not significantly different\n"
     ]
    }
   ],
   "source": [
    "datasets = []\n",
    "datasets.append(flip_bit)\n",
    "datasets.append(custom70)\n",
    "datasets.append(custom40)\n",
    "datasets.append(custom10)\n",
    "\n",
    "stats(datasets)\n",
    "check_all_normal(datasets)\n",
    "\n",
    "ttest(flip_bit, custom70)\n",
    "ttest(flip_bit, custom40)\n",
    "ttest(flip_bit, custom10)\n",
    "ttest(custom70, custom10)\n",
    "ttest(custom70, custom40)\n"
   ]
  },
  {
   "cell_type": "markdown",
   "metadata": {},
   "source": [
    "## Penalty function"
   ]
  },
  {
   "cell_type": "code",
   "execution_count": 11,
   "metadata": {},
   "outputs": [
    {
     "name": "stdout",
     "output_type": "stream",
     "text": [
      "Data 0\n",
      "Mean: 47.9, Median: 48.0, StDev: 9.13418487514531\n",
      "Data 1\n",
      "Mean: 42.1, Median: 41.0, StDev: 3.956710193526379\n",
      "Data 2\n",
      "Mean: 42, Median: 43.0, StDev: 5.497474167490214\n",
      "Data 3\n",
      "Mean: 47.5, Median: 46.0, StDev: 8.11377429642539\n",
      "Data 4\n",
      "Mean: 41, Median: 40.5, StDev: 4.69041575982343\n",
      "All normal\n",
      "p-value: 0.081931550245561\n",
      "Not significantly different\n",
      "p-value: 0.09713236605924601\n",
      "Not significantly different\n",
      "p-value: 0.9186848164942641\n",
      "Not significantly different\n",
      "p-value: 0.0476905308978795\n",
      "Significantly different\n"
     ]
    }
   ],
   "source": [
    "datasets = []\n",
    "datasets.append(static)\n",
    "datasets.append(weighted)\n",
    "datasets.append(dynamic)\n",
    "datasets.append(combi)\n",
    "datasets.append(dynamic_05)\n",
    "\n",
    "stats(datasets)\n",
    "check_all_normal(datasets)\n",
    "\n",
    "ttest(static, weighted)\n",
    "ttest(static, dynamic)\n",
    "ttest(static, combi)\n",
    "ttest(static, dynamic_05)"
   ]
  },
  {
   "cell_type": "markdown",
   "metadata": {},
   "source": [
    "## Hill climbers"
   ]
  },
  {
   "cell_type": "code",
   "execution_count": 12,
   "metadata": {},
   "outputs": [
    {
     "name": "stdout",
     "output_type": "stream",
     "text": [
      "Data 0\n",
      "Mean: 49.2, Median: 48.0, StDev: 5.921711464320654\n",
      "Data 1\n",
      "Mean: 26.9, Median: 26.5, StDev: 2.8067379246694513\n",
      "Data 2\n",
      "Mean: 24.5, Median: 24.5, StDev: 2.223610677354389\n",
      "All normal\n",
      "p-value: 2.8557708722655913e-09\n",
      "Significantly different\n",
      "p-value: 3.179531498378863e-10\n",
      "Significantly different\n",
      "p-value: 0.048211536186093376\n",
      "Significantly different\n",
      "Data 0\n",
      "Mean: 634.22318849, Median: 629.5196054, StDev: 76.46864128324758\n",
      "Data 1\n",
      "Mean: 442.28720064, Median: 437.88654185, StDev: 34.70413807017296\n",
      "All normal\n",
      "p-value: 0.1503611351923546\n",
      "Not significantly different\n",
      "p-value: 3.6654916181543056e-07\n",
      "Significantly different\n",
      "p-value: 1.6793087632596114e-06\n",
      "Significantly different\n"
     ]
    }
   ],
   "source": [
    "datasets = []\n",
    "datasets.append(noHC)\n",
    "datasets.append(HC)\n",
    "datasets.append(SAHC)\n",
    "\n",
    "stats(datasets)\n",
    "check_all_normal(datasets)\n",
    "\n",
    "ttest(noHC, HC)\n",
    "ttest(noHC, SAHC)\n",
    "ttest(HC, SAHC)\n",
    "\n",
    "time = []\n",
    "time.append(time_no_hc)\n",
    "time.append(time_hc)\n",
    "time.append(time_sahc)\n",
    "\n",
    "stats(times)\n",
    "check_all_normal(times)\n",
    "\n",
    "ttest(time_no_hc, time_hc)\n",
    "ttest(time_no_hc, time_sahc)\n",
    "ttest(time_hc, time_sahc)"
   ]
  }
 ],
 "metadata": {
  "kernelspec": {
   "display_name": "eco",
   "language": "python",
   "name": "python3"
  },
  "language_info": {
   "codemirror_mode": {
    "name": "ipython",
    "version": 3
   },
   "file_extension": ".py",
   "mimetype": "text/x-python",
   "name": "python",
   "nbconvert_exporter": "python",
   "pygments_lexer": "ipython3",
   "version": "3.12.7"
  }
 },
 "nbformat": 4,
 "nbformat_minor": 2
}
