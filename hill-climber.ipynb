{
 "cells": [
  {
   "cell_type": "code",
   "execution_count": null,
   "metadata": {},
   "outputs": [],
   "source": [
    "import numpy as np\n",
    "\n",
    "def generate_neighbouring_solution(solution):\n",
    "    pass\n",
    "\n",
    "\n",
    "def hill_climber(solution):\n",
    "    best_solution = solution\n",
    "    min_num_cameras = np.sum(solution)\n",
    "    initial_min_cameras = min_num_cameras\n",
    "\n",
    "    # set the maximum number of tries\n",
    "    max_tries = 100\n",
    "    \n",
    "    # now run the HC loop : \n",
    "    for i in range(max_tries-1):\n",
    "        new_solution = generate_neighbouring_solution(best_solution)\n",
    "        new_camera_num = np.sum(new_solution)\n",
    "        new_solution_coverage = objective_function(solution) # fill this in properly\n",
    "        \n",
    "        if new_solution_coverage < 0.99:\n",
    "            continue\n",
    "\n",
    "        if new_camera_num < min_num_cameras:\n",
    "            min_num_cameras = new_camera_num\n",
    "            best_solution = new_solution.copy()\n",
    "\n",
    "        \n",
    "    print(\"Starting camera number %s Best found %s improvement of %s\" % (initial_min_cameras, min_num_cameras, initial_min_cameras-min_num_cameras))  \n",
    "   \n",
    "    # return the results\n",
    "    return best_solution, min_num_cameras"
   ]
  }
 ],
 "metadata": {
  "kernelspec": {
   "display_name": "eco",
   "language": "python",
   "name": "python3"
  },
  "language_info": {
   "name": "python",
   "version": "3.12.7"
  }
 },
 "nbformat": 4,
 "nbformat_minor": 2
}
